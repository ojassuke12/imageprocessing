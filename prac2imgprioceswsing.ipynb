{
 "cells": [
  {
   "cell_type": "code",
   "execution_count": 145,
   "id": "b584b7ca",
   "metadata": {},
   "outputs": [],
   "source": [
    "import cv2\n",
    "import numpy as np\n",
    "\n"
   ]
  },
  {
   "cell_type": "code",
   "execution_count": 146,
   "id": "e995c658",
   "metadata": {},
   "outputs": [],
   "source": [
    "image=cv2.imread('white.jpg', 0)\n",
    "image=cv2.resize(image,(500,500))#<----RESIZE IMAGE\n",
    "cv2.imshow('RESIZE-IMAGE1',image)\n",
    "cv2.waitKey(0)#<---0 tells us that image will close upon pressing any key\n",
    "cv2.destroyAllWindows()"
   ]
  },
  {
   "cell_type": "code",
   "execution_count": 147,
   "id": "03e58043",
   "metadata": {},
   "outputs": [],
   "source": [
    "image2=cv2.imread('cameraman.jpg', 0)\n",
    "image2=cv2.resize(image2,(500,500))\n",
    "cv2.imshow('RESIZE-IMAGE1',image2)#<----RESIZE IMAGE\n",
    "cv2.waitKey(0)#<---0 tells us that image will close upon pressing any key\n",
    "cv2.destroyAllWindows()"
   ]
  },
  {
   "cell_type": "code",
   "execution_count": null,
   "id": "51213814",
   "metadata": {},
   "outputs": [],
   "source": [
    "img3=image+image2\n",
    "cv2.imshow(\"add\",img3)\n",
    "cv2.waitKey(0)\n",
    "cv2.destroyAllWindows()"
   ]
  },
  {
   "cell_type": "code",
   "execution_count": null,
   "id": "e97524ea",
   "metadata": {},
   "outputs": [],
   "source": [
    "img3=cv2.multiply(image2,2)\n",
    "cv2.imshow(\"mul\",img3)\n",
    "cv2.waitKey(0)\n",
    "cv2.destroyAllWindows()"
   ]
  },
  {
   "cell_type": "code",
   "execution_count": null,
   "id": "af91b64c",
   "metadata": {},
   "outputs": [],
   "source": [
    "img3=cv2.divide(image2,2)\n",
    "cv2.imshow(\"div\",img3)\n",
    "cv2.waitKey(0)\n",
    "cv2.destroyAllWindows()"
   ]
  },
  {
   "cell_type": "code",
   "execution_count": null,
   "id": "60269c5c",
   "metadata": {},
   "outputs": [],
   "source": [
    "img3=image-image2\n",
    "cv2.imshow(\"sub\",img3)\n",
    "cv2.waitKey(0)\n",
    "cv2.destroyAllWindows()"
   ]
  },
  {
   "cell_type": "code",
   "execution_count": null,
   "id": "4e3b1515",
   "metadata": {},
   "outputs": [],
   "source": [
    "img4=cv2.bitwise_or(image,image2)\n",
    "cv2.imshow(\"or\",img4)\n",
    "cv2.waitKey(0)\n",
    "cv2.destroyAllWindows()\n"
   ]
  },
  {
   "cell_type": "code",
   "execution_count": null,
   "id": "2c7df45e",
   "metadata": {},
   "outputs": [],
   "source": [
    "img4=cv2.bitwise_and(image,image2)\n",
    "cv2.imshow(\"and\",img4)\n",
    "cv2.waitKey(0)\n",
    "cv2.destroyAllWindows()"
   ]
  },
  {
   "cell_type": "code",
   "execution_count": null,
   "id": "e40cba66",
   "metadata": {},
   "outputs": [],
   "source": [
    "img4=cv2.bitwise_not(image2)\n",
    "cv2.imshow(\"not\",img4)\n",
    "cv2.waitKey(0)\n",
    "cv2.destroyAllWindows()"
   ]
  },
  {
   "cell_type": "code",
   "execution_count": 144,
   "id": "1143ec3a",
   "metadata": {},
   "outputs": [],
   "source": [
    "img4=cv2.bitwise_xor(image,image2)\n",
    "cv2.imshow(\"and\",img4)\n",
    "cv2.waitKey(0)\n",
    "cv2.destroyAllWindows()"
   ]
  },
  {
   "cell_type": "code",
   "execution_count": null,
   "id": "a0432855",
   "metadata": {},
   "outputs": [],
   "source": []
  },
  {
   "cell_type": "code",
   "execution_count": null,
   "id": "d219a8df",
   "metadata": {},
   "outputs": [],
   "source": []
  }
 ],
 "metadata": {
  "kernelspec": {
   "display_name": "Python 3 (ipykernel)",
   "language": "python",
   "name": "python3"
  },
  "language_info": {
   "codemirror_mode": {
    "name": "ipython",
    "version": 3
   },
   "file_extension": ".py",
   "mimetype": "text/x-python",
   "name": "python",
   "nbconvert_exporter": "python",
   "pygments_lexer": "ipython3",
   "version": "3.9.7"
  }
 },
 "nbformat": 4,
 "nbformat_minor": 5
}
